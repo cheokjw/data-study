{
 "cells": [
  {
   "cell_type": "markdown",
   "source": [
    "ONE-DIMENSIONAL ARRAY"
   ],
   "metadata": {}
  },
  {
   "cell_type": "code",
   "execution_count": 2,
   "source": [
    "import numpy as np \r\n",
    "\r\n",
    "# Creates a one dimensional array\r\n",
    "arr1 = np.array([1, 2, 3])\r\n",
    "\r\n",
    "print(arr1)"
   ],
   "outputs": [
    {
     "output_type": "stream",
     "name": "stdout",
     "text": [
      "[1 2 3]\n"
     ]
    }
   ],
   "metadata": {}
  },
  {
   "cell_type": "code",
   "execution_count": 3,
   "source": [
    "# Shows type of data for array\r\n",
    "print(type(arr1))"
   ],
   "outputs": [
    {
     "output_type": "stream",
     "name": "stdout",
     "text": [
      "<class 'numpy.ndarray'>\n"
     ]
    }
   ],
   "metadata": {}
  },
  {
   "cell_type": "code",
   "execution_count": 4,
   "source": [
    "# Shows the \"shape\" of the array (For this case it shows 3 because arr1 is an array with 3 values in a 1-dimensional array)\r\n",
    "print(arr1.shape)"
   ],
   "outputs": [
    {
     "output_type": "stream",
     "name": "stdout",
     "text": [
      "(3,)\n"
     ]
    }
   ],
   "metadata": {}
  },
  {
   "cell_type": "code",
   "execution_count": 5,
   "source": [
    "# Accessing the value of array just like accessing value in a list\r\n",
    "arr1[0]"
   ],
   "outputs": [
    {
     "output_type": "execute_result",
     "data": {
      "text/plain": [
       "1"
      ]
     },
     "metadata": {},
     "execution_count": 5
    }
   ],
   "metadata": {}
  },
  {
   "cell_type": "code",
   "execution_count": 6,
   "source": [
    "arr1[0] = 5\r\n",
    "arr1[2] = 0\r\n",
    "print(arr1)"
   ],
   "outputs": [
    {
     "output_type": "stream",
     "name": "stdout",
     "text": [
      "[5 2 0]\n"
     ]
    }
   ],
   "metadata": {}
  },
  {
   "cell_type": "markdown",
   "source": [
    "=================================================================================================================================================================================="
   ],
   "metadata": {}
  },
  {
   "cell_type": "markdown",
   "source": [
    "TWO-DIMENSIONAL ARRAY"
   ],
   "metadata": {}
  },
  {
   "cell_type": "code",
   "execution_count": 7,
   "source": [
    "# Creates a two-dimensional array\r\n",
    "arr2 = np.array([[1, 2, 3], [3, 4, 5]])\r\n",
    "print(arr2)"
   ],
   "outputs": [
    {
     "output_type": "stream",
     "name": "stdout",
     "text": [
      "[[1 2 3]\n",
      " [3 4 5]]\n"
     ]
    }
   ],
   "metadata": {}
  },
  {
   "cell_type": "code",
   "execution_count": 8,
   "source": [
    "# Accessing value inside a two-dimensional array\r\n",
    "# First index represents array while the second index represents the value inside array\r\n",
    "print(arr2[1][1])\r\n",
    "# or we can do\r\n",
    "print(arr2[1, 2])\r\n",
    " "
   ],
   "outputs": [
    {
     "output_type": "stream",
     "name": "stdout",
     "text": [
      "4\n",
      "5\n"
     ]
    }
   ],
   "metadata": {}
  },
  {
   "cell_type": "code",
   "execution_count": 9,
   "source": [
    "# This will return (2, 3) which means 2 rows with 3 elements\r\n",
    "print(arr2.shape)"
   ],
   "outputs": [
    {
     "output_type": "stream",
     "name": "stdout",
     "text": [
      "(2, 3)\n"
     ]
    }
   ],
   "metadata": {}
  },
  {
   "cell_type": "markdown",
   "source": [
    "ARRAY CAN ALSO HOLD THINGS WHICH ARE NOT VALUES"
   ],
   "metadata": {}
  },
  {
   "cell_type": "code",
   "execution_count": 10,
   "source": [
    "arrS = np.array([\"JW\",\"TM\"])\r\n",
    "print(type(arrS))\r\n",
    "arrS"
   ],
   "outputs": [
    {
     "output_type": "stream",
     "name": "stdout",
     "text": [
      "<class 'numpy.ndarray'>\n"
     ]
    },
    {
     "output_type": "execute_result",
     "data": {
      "text/plain": [
       "array(['JW', 'TM'], dtype='<U2')"
      ]
     },
     "metadata": {},
     "execution_count": 10
    }
   ],
   "metadata": {}
  },
  {
   "cell_type": "markdown",
   "source": [
    "=================================================================================================================================================================================="
   ],
   "metadata": {}
  },
  {
   "cell_type": "markdown",
   "source": [
    "NUMPY FUNCTIONS"
   ],
   "metadata": {}
  },
  {
   "cell_type": "code",
   "execution_count": 11,
   "source": [
    "# Creates a one-dimensional array with a specified increment but does not include the last number\r\n",
    "arrR = np.arange(0, 20, 2)\r\n",
    "arrR"
   ],
   "outputs": [
    {
     "output_type": "execute_result",
     "data": {
      "text/plain": [
       "array([ 0,  2,  4,  6,  8, 10, 12, 14, 16, 18])"
      ]
     },
     "metadata": {},
     "execution_count": 11
    }
   ],
   "metadata": {}
  },
  {
   "cell_type": "code",
   "execution_count": 12,
   "source": [
    "# linspace returns evenly spaced samples calculated over the interval \r\n",
    "# Basically show increments within a certain numbers \r\n",
    "arrL = np.linspace(0, 10, 20 )\r\n",
    "arrL"
   ],
   "outputs": [
    {
     "output_type": "execute_result",
     "data": {
      "text/plain": [
       "array([ 0.        ,  0.52631579,  1.05263158,  1.57894737,  2.10526316,\n",
       "        2.63157895,  3.15789474,  3.68421053,  4.21052632,  4.73684211,\n",
       "        5.26315789,  5.78947368,  6.31578947,  6.84210526,  7.36842105,\n",
       "        7.89473684,  8.42105263,  8.94736842,  9.47368421, 10.        ])"
      ]
     },
     "metadata": {},
     "execution_count": 12
    }
   ],
   "metadata": {}
  },
  {
   "cell_type": "code",
   "execution_count": 13,
   "source": [
    "# Creates a random array with the specified values in it between 0 to 1\r\n",
    "arrR = np.random.rand(10)\r\n",
    "arrR2 = np.random.rand(3, 4) # Creates a 3 row array 4 value array\r\n",
    "\r\n",
    "print(arrR)\r\n",
    "print(arrR2)\r\n"
   ],
   "outputs": [
    {
     "output_type": "stream",
     "name": "stdout",
     "text": [
      "[0.13064585 0.63764961 0.2521255  0.93218029 0.00531661 0.1556422\n",
      " 0.8970725  0.14558052 0.50172339 0.8706788 ]\n",
      "[[0.78863989 0.71934838 0.70413562 0.52347404]\n",
      " [0.42306312 0.78991542 0.49708312 0.03885568]\n",
      " [0.19886658 0.36805842 0.19368495 0.22066731]]\n"
     ]
    }
   ],
   "metadata": {}
  },
  {
   "cell_type": "code",
   "execution_count": 14,
   "source": [
    "# Creates a series of array with zeros as its values\r\n",
    "print(f\"{np.zeros(10)}\\n{np.zeros((2, 3))}\")"
   ],
   "outputs": [
    {
     "output_type": "stream",
     "name": "stdout",
     "text": [
      "[0. 0. 0. 0. 0. 0. 0. 0. 0. 0.]\n",
      "[[0. 0. 0.]\n",
      " [0. 0. 0.]]\n"
     ]
    }
   ],
   "metadata": {}
  },
  {
   "cell_type": "code",
   "execution_count": 15,
   "source": [
    "# 3-dimensional arrays (This case it means three 10 10s) \\|_\r\n",
    "print(np.ones((3, 10, 10)))"
   ],
   "outputs": [
    {
     "output_type": "stream",
     "name": "stdout",
     "text": [
      "[[[1. 1. 1. 1. 1. 1. 1. 1. 1. 1.]\n",
      "  [1. 1. 1. 1. 1. 1. 1. 1. 1. 1.]\n",
      "  [1. 1. 1. 1. 1. 1. 1. 1. 1. 1.]\n",
      "  [1. 1. 1. 1. 1. 1. 1. 1. 1. 1.]\n",
      "  [1. 1. 1. 1. 1. 1. 1. 1. 1. 1.]\n",
      "  [1. 1. 1. 1. 1. 1. 1. 1. 1. 1.]\n",
      "  [1. 1. 1. 1. 1. 1. 1. 1. 1. 1.]\n",
      "  [1. 1. 1. 1. 1. 1. 1. 1. 1. 1.]\n",
      "  [1. 1. 1. 1. 1. 1. 1. 1. 1. 1.]\n",
      "  [1. 1. 1. 1. 1. 1. 1. 1. 1. 1.]]\n",
      "\n",
      " [[1. 1. 1. 1. 1. 1. 1. 1. 1. 1.]\n",
      "  [1. 1. 1. 1. 1. 1. 1. 1. 1. 1.]\n",
      "  [1. 1. 1. 1. 1. 1. 1. 1. 1. 1.]\n",
      "  [1. 1. 1. 1. 1. 1. 1. 1. 1. 1.]\n",
      "  [1. 1. 1. 1. 1. 1. 1. 1. 1. 1.]\n",
      "  [1. 1. 1. 1. 1. 1. 1. 1. 1. 1.]\n",
      "  [1. 1. 1. 1. 1. 1. 1. 1. 1. 1.]\n",
      "  [1. 1. 1. 1. 1. 1. 1. 1. 1. 1.]\n",
      "  [1. 1. 1. 1. 1. 1. 1. 1. 1. 1.]\n",
      "  [1. 1. 1. 1. 1. 1. 1. 1. 1. 1.]]\n",
      "\n",
      " [[1. 1. 1. 1. 1. 1. 1. 1. 1. 1.]\n",
      "  [1. 1. 1. 1. 1. 1. 1. 1. 1. 1.]\n",
      "  [1. 1. 1. 1. 1. 1. 1. 1. 1. 1.]\n",
      "  [1. 1. 1. 1. 1. 1. 1. 1. 1. 1.]\n",
      "  [1. 1. 1. 1. 1. 1. 1. 1. 1. 1.]\n",
      "  [1. 1. 1. 1. 1. 1. 1. 1. 1. 1.]\n",
      "  [1. 1. 1. 1. 1. 1. 1. 1. 1. 1.]\n",
      "  [1. 1. 1. 1. 1. 1. 1. 1. 1. 1.]\n",
      "  [1. 1. 1. 1. 1. 1. 1. 1. 1. 1.]\n",
      "  [1. 1. 1. 1. 1. 1. 1. 1. 1. 1.]]]\n"
     ]
    }
   ],
   "metadata": {}
  },
  {
   "cell_type": "code",
   "execution_count": 16,
   "source": [
    "arr = [0, 1, 2]\r\n",
    "print(np.repeat(arr, 3)) # Repeat the values in the specified array three times"
   ],
   "outputs": [
    {
     "output_type": "stream",
     "name": "stdout",
     "text": [
      "[0 0 0 1 1 1 2 2 2]\n"
     ]
    }
   ],
   "metadata": {}
  },
  {
   "cell_type": "code",
   "execution_count": 17,
   "source": [
    "print(np.tile(arr, 3)) # Repeats the array specified time"
   ],
   "outputs": [
    {
     "output_type": "stream",
     "name": "stdout",
     "text": [
      "[0 1 2 0 1 2 0 1 2]\n"
     ]
    }
   ],
   "metadata": {}
  },
  {
   "cell_type": "code",
   "execution_count": 18,
   "source": [
    "# Creates identity matrix with a specified row\r\n",
    "identity_matrix = np.eye(3)\r\n",
    "print(identity_matrix)"
   ],
   "outputs": [
    {
     "output_type": "stream",
     "name": "stdout",
     "text": [
      "[[1. 0. 0.]\n",
      " [0. 1. 0.]\n",
      " [0. 0. 1.]]\n"
     ]
    }
   ],
   "metadata": {}
  },
  {
   "cell_type": "code",
   "execution_count": 19,
   "source": [
    "np.diag([1, 2, 3, 4, 5])"
   ],
   "outputs": [
    {
     "output_type": "execute_result",
     "data": {
      "text/plain": [
       "array([[1, 0, 0, 0, 0],\n",
       "       [0, 2, 0, 0, 0],\n",
       "       [0, 0, 3, 0, 0],\n",
       "       [0, 0, 0, 4, 0],\n",
       "       [0, 0, 0, 0, 5]])"
      ]
     },
     "metadata": {},
     "execution_count": 19
    }
   ],
   "metadata": {}
  },
  {
   "cell_type": "code",
   "execution_count": 20,
   "source": [
    "arr = np.random.rand(5, 5)\r\n",
    "print(arr)\r\n",
    "arrDi = np.diag(arr) # Returns the diagonal array\r\n",
    "print(f\"\\n{arrDi}\")"
   ],
   "outputs": [
    {
     "output_type": "stream",
     "name": "stdout",
     "text": [
      "[[0.67875408 0.68487981 0.17736671 0.37226749 0.81509165]\n",
      " [0.65923662 0.33390226 0.10277504 0.92422151 0.59565925]\n",
      " [0.89223596 0.60639015 0.29601643 0.87134307 0.52127438]\n",
      " [0.09162109 0.11741324 0.90302062 0.9741594  0.67428728]\n",
      " [0.32727675 0.4767501  0.24529425 0.04184565 0.93991953]]\n",
      "\n",
      "[0.67875408 0.33390226 0.29601643 0.9741594  0.93991953]\n"
     ]
    }
   ],
   "metadata": {}
  },
  {
   "cell_type": "code",
   "execution_count": 21,
   "source": [
    "print(arr.ndim) # Shows the dimension of the array\r\n",
    "print(arr.size) # Shows the size of the array eg: 5 * 5 = 25\r\n",
    "print(arr.shape) # Shows the grid of the array eg: 5, 5"
   ],
   "outputs": [
    {
     "output_type": "stream",
     "name": "stdout",
     "text": [
      "2\n",
      "25\n",
      "(5, 5)\n"
     ]
    }
   ],
   "metadata": {}
  },
  {
   "cell_type": "code",
   "execution_count": 22,
   "source": [
    "np.random.randint(-10, 10, 4) # Creates a random array (np.random.randint(start, end, array size))"
   ],
   "outputs": [
    {
     "output_type": "execute_result",
     "data": {
      "text/plain": [
       "array([ 8,  3, -7,  9])"
      ]
     },
     "metadata": {},
     "execution_count": 22
    }
   ],
   "metadata": {}
  },
  {
   "cell_type": "markdown",
   "source": [
    "================================================================================================================================================================================"
   ],
   "metadata": {}
  },
  {
   "cell_type": "markdown",
   "source": [
    "MODIFYING ARRAY VALUE"
   ],
   "metadata": {}
  },
  {
   "cell_type": "code",
   "execution_count": 23,
   "source": [
    "arr + 10 # Plus 10 to every element in the array"
   ],
   "outputs": [
    {
     "output_type": "execute_result",
     "data": {
      "text/plain": [
       "array([[10.67875408, 10.68487981, 10.17736671, 10.37226749, 10.81509165],\n",
       "       [10.65923662, 10.33390226, 10.10277504, 10.92422151, 10.59565925],\n",
       "       [10.89223596, 10.60639015, 10.29601643, 10.87134307, 10.52127438],\n",
       "       [10.09162109, 10.11741324, 10.90302062, 10.9741594 , 10.67428728],\n",
       "       [10.32727675, 10.4767501 , 10.24529425, 10.04184565, 10.93991953]])"
      ]
     },
     "metadata": {},
     "execution_count": 23
    }
   ],
   "metadata": {}
  },
  {
   "cell_type": "code",
   "execution_count": 24,
   "source": [
    "np.exp(arr) # Returns the exponential array eg: e^[array_value]"
   ],
   "outputs": [
    {
     "output_type": "execute_result",
     "data": {
      "text/plain": [
       "array([[1.97141998, 1.98353342, 1.19406889, 1.45102107, 2.25938272],\n",
       "       [1.93331593, 1.39640665, 1.10824207, 2.51990577, 1.81422657],\n",
       "       [2.44058058, 1.8337997 , 1.34449224, 2.39011879, 1.68417257],\n",
       "       [1.09594947, 1.12458406, 2.46704387, 2.64893958, 1.96263366],\n",
       "       [1.38718532, 1.61083084, 1.27799731, 1.04273352, 2.55977543]])"
      ]
     },
     "metadata": {},
     "execution_count": 24
    }
   ],
   "metadata": {}
  },
  {
   "cell_type": "code",
   "execution_count": 25,
   "source": [
    "print(np.log(arr)) # Returns the log array eg: log10[array_value] by default\r\n",
    "print(\"\\n\")\r\n",
    "print(np.log2(arr)) # Returns the log base 2 array and etc"
   ],
   "outputs": [
    {
     "output_type": "stream",
     "name": "stdout",
     "text": [
      "[[-0.38749639 -0.37851191 -1.72953589 -0.98814261 -0.20445472]\n",
      " [-0.41667274 -1.09690696 -2.27521279 -0.07880351 -0.51808651]\n",
      " [-0.11402466 -0.50023168 -1.21734033 -0.1377195  -0.65147873]\n",
      " [-2.39009384 -2.14205556 -0.10200989 -0.02618033 -0.39409903]\n",
      " [-1.11694915 -0.74076283 -1.40529678 -3.17376735 -0.06196101]]\n",
      "\n",
      "\n",
      "[[-0.55903912 -0.54607726 -2.49519285 -1.42558845 -0.29496582]\n",
      " [-0.6011317  -1.58250223 -3.2824382  -0.11368943 -0.74744084]\n",
      " [-0.16450281 -0.72168177 -1.75625086 -0.19868724 -0.93988513]\n",
      " [-3.44817653 -3.09033293 -0.14716917 -0.03777024 -0.56856472]\n",
      " [-1.611417   -1.06869486 -2.02741469 -4.57877841 -0.08939085]]\n"
     ]
    }
   ],
   "metadata": {}
  },
  {
   "cell_type": "code",
   "execution_count": 26,
   "source": [
    "np.cos(arr) # Returns the cosine value obtained from array (sin for sine and tan)"
   ],
   "outputs": [
    {
     "output_type": "execute_result",
     "data": {
      "text/plain": [
       "array([[0.77835554, 0.77449508, 0.98431172, 0.93150499, 0.6858017 ],\n",
       "       [0.79046004, 0.94477064, 0.99472329, 0.60245613, 0.82777881],\n",
       "       [0.62767296, 0.82171064, 0.95650613, 0.64379942, 0.86718526],\n",
       "       [0.99580572, 0.99311498, 0.619241  , 0.56186362, 0.78115213],\n",
       "       [0.94692129, 0.88849097, 0.97006591, 0.9991246 , 0.58985301]])"
      ]
     },
     "metadata": {},
     "execution_count": 26
    }
   ],
   "metadata": {}
  },
  {
   "cell_type": "code",
   "execution_count": 27,
   "source": [
    "np.sum(arr, axis = 1) # Returns the sum of the whole array (axis = 0 means sum of the column while axis = 1 means that sum of the row)"
   ],
   "outputs": [
    {
     "output_type": "execute_result",
     "data": {
      "text/plain": [
       "array([2.72835974, 2.61579468, 3.18725999, 2.76050163, 2.03108628])"
      ]
     },
     "metadata": {},
     "execution_count": 27
    }
   ],
   "metadata": {}
  },
  {
   "cell_type": "code",
   "execution_count": 28,
   "source": [
    "# Statistic functions\r\n",
    "\r\n",
    "print(np.min(arr, axis = 0))\r\n",
    "print(np.max(arr))\r\n",
    "print(np.mean(arr, axis = 1))\r\n",
    "print(np.median(arr))\r\n",
    "print(np.std(arr, axis = 0))\r\n",
    "print(np.var(arr))\r\n"
   ],
   "outputs": [
    {
     "output_type": "stream",
     "name": "stdout",
     "text": [
      "[0.09162109 0.11741324 0.10277504 0.04184565 0.52127438]\n",
      "0.9741594006033557\n",
      "[0.54567195 0.52315894 0.637452   0.55210033 0.40621726]\n",
      "0.5956592457920281\n",
      "[0.28401317 0.20211212 0.28653148 0.36752716 0.15091121]\n",
      "0.08932646406048778\n"
     ]
    }
   ],
   "metadata": {}
  },
  {
   "cell_type": "code",
   "execution_count": 29,
   "source": [
    "# Slicing\r\n",
    "# The example below is showing starting from the index 1 array, and starting from the 2nd value inside array\r\n",
    "arr[1:, 2:4] "
   ],
   "outputs": [
    {
     "output_type": "execute_result",
     "data": {
      "text/plain": [
       "array([[0.10277504, 0.92422151],\n",
       "       [0.29601643, 0.87134307],\n",
       "       [0.90302062, 0.9741594 ],\n",
       "       [0.24529425, 0.04184565]])"
      ]
     },
     "metadata": {},
     "execution_count": 29
    }
   ],
   "metadata": {}
  },
  {
   "cell_type": "code",
   "execution_count": 30,
   "source": [
    "# Sorting array values\r\n",
    "np.sort(arr, axis = 0) "
   ],
   "outputs": [
    {
     "output_type": "execute_result",
     "data": {
      "text/plain": [
       "array([[0.09162109, 0.11741324, 0.10277504, 0.04184565, 0.52127438],\n",
       "       [0.32727675, 0.33390226, 0.17736671, 0.37226749, 0.59565925],\n",
       "       [0.65923662, 0.4767501 , 0.24529425, 0.87134307, 0.67428728],\n",
       "       [0.67875408, 0.60639015, 0.29601643, 0.92422151, 0.81509165],\n",
       "       [0.89223596, 0.68487981, 0.90302062, 0.9741594 , 0.93991953]])"
      ]
     },
     "metadata": {},
     "execution_count": 30
    }
   ],
   "metadata": {}
  },
  {
   "cell_type": "code",
   "execution_count": 31,
   "source": [
    "print(f\"This is the normal array \\n{arr}\")\r\n",
    "print(f\"\\nThis is the tranposed array \\n{arr.T}\")\r\n",
    "# Tranposed array converts the array to sort by column\r\n",
    "# For example: a 5 x 3 array becomes a 3 x 5 array \r\n",
    "print(f\"\\nSlicing tranposed array \\n{arr[:3,:].T} \")\r\n",
    "# We have to -1(for the end slice) everytime. Eg: 0:4 means 0, 1, 2, 3 "
   ],
   "outputs": [
    {
     "output_type": "stream",
     "name": "stdout",
     "text": [
      "This is the normal array \n",
      "[[0.67875408 0.68487981 0.17736671 0.37226749 0.81509165]\n",
      " [0.65923662 0.33390226 0.10277504 0.92422151 0.59565925]\n",
      " [0.89223596 0.60639015 0.29601643 0.87134307 0.52127438]\n",
      " [0.09162109 0.11741324 0.90302062 0.9741594  0.67428728]\n",
      " [0.32727675 0.4767501  0.24529425 0.04184565 0.93991953]]\n",
      "\n",
      "This is the tranposed array \n",
      "[[0.67875408 0.65923662 0.89223596 0.09162109 0.32727675]\n",
      " [0.68487981 0.33390226 0.60639015 0.11741324 0.4767501 ]\n",
      " [0.17736671 0.10277504 0.29601643 0.90302062 0.24529425]\n",
      " [0.37226749 0.92422151 0.87134307 0.9741594  0.04184565]\n",
      " [0.81509165 0.59565925 0.52127438 0.67428728 0.93991953]]\n",
      "\n",
      "Slicing tranposed array \n",
      "[[0.67875408 0.65923662 0.89223596]\n",
      " [0.68487981 0.33390226 0.60639015]\n",
      " [0.17736671 0.10277504 0.29601643]\n",
      " [0.37226749 0.92422151 0.87134307]\n",
      " [0.81509165 0.59565925 0.52127438]] \n"
     ]
    }
   ],
   "metadata": {}
  },
  {
   "cell_type": "code",
   "execution_count": 32,
   "source": [
    "# Converts the array into a 1 x n array (useful for neural networks)\r\n",
    "arr[1:4, :3].flatten()"
   ],
   "outputs": [
    {
     "output_type": "execute_result",
     "data": {
      "text/plain": [
       "array([0.65923662, 0.33390226, 0.10277504, 0.89223596, 0.60639015,\n",
       "       0.29601643, 0.09162109, 0.11741324, 0.90302062])"
      ]
     },
     "metadata": {},
     "execution_count": 32
    }
   ],
   "metadata": {}
  },
  {
   "cell_type": "code",
   "execution_count": 33,
   "source": [
    "# Appending things into array\r\n",
    "# But normally people process the data then put it as array instead of adding new stuffs to array\r\n",
    "arr = np.array([1, 2, 3, 4, 5])\r\n",
    "arrpin = np.append(arr, [6, 7, 8])\r\n",
    "arr_insert = np.insert(arr, 1, [1, 2, 3]) # np.insert(array, index, value)\r\n",
    "\r\n",
    "print(f\"{arr}\\n{arrpin}\\n{arr_insert}\")"
   ],
   "outputs": [
    {
     "output_type": "stream",
     "name": "stdout",
     "text": [
      "[1 2 3 4 5]\n",
      "[1 2 3 4 5 6 7 8]\n",
      "[1 1 2 3 2 3 4 5]\n"
     ]
    }
   ],
   "metadata": {}
  },
  {
   "cell_type": "code",
   "execution_count": 34,
   "source": [
    "arr_del = np.delete(arr_insert, [0]) # np.delete(array, [index], axis)\r\n",
    "print(arr_del)"
   ],
   "outputs": [
    {
     "output_type": "stream",
     "name": "stdout",
     "text": [
      "[1 2 3 2 3 4 5]\n"
     ]
    }
   ],
   "metadata": {}
  },
  {
   "cell_type": "code",
   "execution_count": 35,
   "source": [
    "# Copying array\r\n",
    "arrC = arr_del.copy()\r\n",
    "print(arrC)"
   ],
   "outputs": [
    {
     "output_type": "stream",
     "name": "stdout",
     "text": [
      "[1 2 3 2 3 4 5]\n"
     ]
    }
   ],
   "metadata": {}
  },
  {
   "cell_type": "markdown",
   "source": [
    "==================================================================================================================================="
   ],
   "metadata": {}
  },
  {
   "cell_type": "markdown",
   "source": [
    "NUMPY SET AND MATRICES FUNCTIONS"
   ],
   "metadata": {}
  },
  {
   "cell_type": "code",
   "execution_count": 36,
   "source": [
    "# Concatenating arrays (Combining arrays)\r\n",
    "arr1 = np.array([[1, 2, 3, 4, 5], [1, 2, 3, 4, 5]])\r\n",
    "arr2 = np.array([[5, 6, 7, 8, 9], [5, 6, 7, 8, 9]])\r\n",
    "arr_cat = np.concatenate((arr1, arr2), axis = 1)\r\n",
    "print(arr_cat)"
   ],
   "outputs": [
    {
     "output_type": "stream",
     "name": "stdout",
     "text": [
      "[[1 2 3 4 5 5 6 7 8 9]\n",
      " [1 2 3 4 5 5 6 7 8 9]]\n"
     ]
    }
   ],
   "metadata": {}
  },
  {
   "cell_type": "code",
   "execution_count": 38,
   "source": [
    "# Similar to concatenate but it does not require axis (vstack stands for vertical stack)\r\n",
    "catV = np.vstack((arr1, arr2))\r\n",
    "print(catV)\r\n",
    "\r\n",
    "# hstack stands for horizontal stack\r\n",
    "catH = np.hstack((arr1, arr2))\r\n",
    "print(catH)"
   ],
   "outputs": [
    {
     "output_type": "stream",
     "name": "stdout",
     "text": [
      "[[1 2 3 4 5]\n",
      " [1 2 3 4 5]\n",
      " [5 6 7 8 9]\n",
      " [5 6 7 8 9]]\n",
      "[[1 2 3 4 5 5 6 7 8 9]\n",
      " [1 2 3 4 5 5 6 7 8 9]]\n"
     ]
    }
   ],
   "metadata": {}
  },
  {
   "cell_type": "code",
   "execution_count": 42,
   "source": [
    "arr = np.array([1, 2, 3, 4, 5, 7, 3, 2, 5, 3])\r\n",
    "print(np.unique(arr)) # Returns all the unique value inside the array"
   ],
   "outputs": [
    {
     "output_type": "stream",
     "name": "stdout",
     "text": [
      "[1 2 3 4 5 7]\n"
     ]
    }
   ],
   "metadata": {}
  },
  {
   "cell_type": "code",
   "execution_count": 45,
   "source": [
    "# returns two variable, unique value inside array and return its counts\r\n",
    "uniques, countsw = np.unique(arr, return_counts = True)\r\n",
    "print(uniques)\r\n",
    "print(countsw)"
   ],
   "outputs": [
    {
     "output_type": "stream",
     "name": "stdout",
     "text": [
      "(array([1, 2, 3, 4, 5, 7]), array([1, 2, 3, 1, 2, 1], dtype=int64))\n"
     ]
    }
   ],
   "metadata": {}
  },
  {
   "cell_type": "code",
   "execution_count": 53,
   "source": [
    "# Intersection, differentiation, neither\r\n",
    "arr1 = np.array([1, 2, 3, 4, 5])\r\n",
    "arr2 = np.array([3, 4, 5, 6, 7])\r\n",
    "print(np.intersect1d(arr1, arr2)) # Returns the same value occured in both arrays\r\n",
    "print(np.union1d(arr1, arr2)) # Returns everything occured in both array (but only show one if there are repeating value)\r\n",
    "# np.setdiff1d(targetset, secondset)\r\n",
    "print(np.setdiff1d(arr2, arr1)) # Returns the difference between the targetted set and the other set (only shows the target set)\r\n",
    "print(np.setxor1d(arr1, arr2)) # Returns all the difference between both arrays\r\n"
   ],
   "outputs": [
    {
     "output_type": "stream",
     "name": "stdout",
     "text": [
      "[3 4 5]\n",
      "[1 2 3 4 5 6 7]\n",
      "[6 7]\n"
     ]
    }
   ],
   "metadata": {}
  }
 ],
 "metadata": {
  "orig_nbformat": 4,
  "language_info": {
   "name": "python",
   "version": "3.9.1",
   "mimetype": "text/x-python",
   "codemirror_mode": {
    "name": "ipython",
    "version": 3
   },
   "pygments_lexer": "ipython3",
   "nbconvert_exporter": "python",
   "file_extension": ".py"
  },
  "kernelspec": {
   "name": "python3",
   "display_name": "Python 3.9.1 64-bit"
  },
  "interpreter": {
   "hash": "86024da591e1644f8f97b04427dfc49d410526f78c619fda20415da69f0ecd62"
  }
 },
 "nbformat": 4,
 "nbformat_minor": 2
}