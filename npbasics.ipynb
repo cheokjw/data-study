{
 "cells": [
  {
   "cell_type": "markdown",
   "metadata": {},
   "source": [
    "ONE-DIMENSIONAL ARRAY"
   ]
  },
  {
   "cell_type": "code",
   "execution_count": 46,
   "metadata": {},
   "outputs": [
    {
     "name": "stdout",
     "output_type": "stream",
     "text": [
      "[1. 2. 3.]\n",
      "float64\n",
      "int32\n"
     ]
    }
   ],
   "source": [
    "import numpy as np \n",
    "\n",
    "# Creates a one dimensional array\n",
    "# dtype allow us to specify a datatype for our ndarray\n",
    "arr1 = np.array([1, 2, 3], dtype = np.float64)\n",
    "\n",
    "# or do\n",
    "arrint = arr1.astype(np.int32)\n",
    "\n",
    "print(arr1)\n",
    "print(arr1.dtype)\n",
    "print(arrint.dtype)"
   ]
  },
  {
   "cell_type": "code",
   "execution_count": 3,
   "metadata": {},
   "outputs": [
    {
     "name": "stdout",
     "output_type": "stream",
     "text": [
      "<class 'numpy.ndarray'>\n"
     ]
    }
   ],
   "source": [
    "# Shows type of data for array\n",
    "print(type(arr1))"
   ]
  },
  {
   "cell_type": "code",
   "execution_count": 4,
   "metadata": {},
   "outputs": [
    {
     "name": "stdout",
     "output_type": "stream",
     "text": [
      "(3,)\n"
     ]
    }
   ],
   "source": [
    "# Shows the \"shape\" of the array (For this case it shows 3 because arr1 is an array with 3 values in a 1-dimensional array)\n",
    "print(arr1.shape)"
   ]
  },
  {
   "cell_type": "code",
   "execution_count": 5,
   "metadata": {},
   "outputs": [
    {
     "data": {
      "text/plain": [
       "1"
      ]
     },
     "execution_count": 5,
     "metadata": {},
     "output_type": "execute_result"
    }
   ],
   "source": [
    "# Accessing the value of array just like accessing value in a list\n",
    "arr1[0]"
   ]
  },
  {
   "cell_type": "code",
   "execution_count": 6,
   "metadata": {},
   "outputs": [
    {
     "name": "stdout",
     "output_type": "stream",
     "text": [
      "[5 2 0]\n"
     ]
    }
   ],
   "source": [
    "arr1[0] = 5\n",
    "arr1[2] = 0\n",
    "print(arr1)"
   ]
  },
  {
   "cell_type": "markdown",
   "metadata": {},
   "source": [
    "=================================================================================================================================================================================="
   ]
  },
  {
   "cell_type": "markdown",
   "metadata": {},
   "source": [
    "TWO-DIMENSIONAL ARRAY"
   ]
  },
  {
   "cell_type": "code",
   "execution_count": 7,
   "metadata": {},
   "outputs": [
    {
     "name": "stdout",
     "output_type": "stream",
     "text": [
      "[[1 2 3]\n",
      " [3 4 5]]\n"
     ]
    }
   ],
   "source": [
    "# Creates a two-dimensional array\n",
    "arr2 = np.array([[1, 2, 3], [3, 4, 5]])\n",
    "print(arr2)"
   ]
  },
  {
   "cell_type": "code",
   "execution_count": 8,
   "metadata": {},
   "outputs": [
    {
     "name": "stdout",
     "output_type": "stream",
     "text": [
      "4\n",
      "5\n"
     ]
    }
   ],
   "source": [
    "# Accessing value inside a two-dimensional array\n",
    "# First index represents array while the second index represents the value inside array\n",
    "print(arr2[1][1])\n",
    "# or we can do\n",
    "print(arr2[1, 2])\n",
    " "
   ]
  },
  {
   "cell_type": "code",
   "execution_count": 9,
   "metadata": {},
   "outputs": [
    {
     "name": "stdout",
     "output_type": "stream",
     "text": [
      "(2, 3)\n"
     ]
    }
   ],
   "source": [
    "# This will return (2, 3) which means 2 rows with 3 elements\n",
    "print(arr2.shape)"
   ]
  },
  {
   "cell_type": "markdown",
   "metadata": {},
   "source": [
    "ARRAY CAN ALSO HOLD THINGS WHICH ARE NOT VALUES"
   ]
  },
  {
   "cell_type": "code",
   "execution_count": 10,
   "metadata": {},
   "outputs": [
    {
     "name": "stdout",
     "output_type": "stream",
     "text": [
      "<class 'numpy.ndarray'>\n"
     ]
    },
    {
     "data": {
      "text/plain": [
       "array(['JW', 'TM'], dtype='<U2')"
      ]
     },
     "execution_count": 10,
     "metadata": {},
     "output_type": "execute_result"
    }
   ],
   "source": [
    "arrS = np.array([\"JW\",\"TM\"])\n",
    "print(type(arrS))\n",
    "arrS"
   ]
  },
  {
   "cell_type": "markdown",
   "metadata": {},
   "source": [
    "=================================================================================================================================================================================="
   ]
  },
  {
   "cell_type": "markdown",
   "metadata": {},
   "source": [
    "NUMPY FUNCTIONS"
   ]
  },
  {
   "cell_type": "code",
   "execution_count": 11,
   "metadata": {},
   "outputs": [
    {
     "data": {
      "text/plain": [
       "array([ 0,  2,  4,  6,  8, 10, 12, 14, 16, 18])"
      ]
     },
     "execution_count": 11,
     "metadata": {},
     "output_type": "execute_result"
    }
   ],
   "source": [
    "# Creates a one-dimensional array with a specified increment but does not include the last number\n",
    "arrR = np.arange(0, 20, 2)\n",
    "arrR"
   ]
  },
  {
   "cell_type": "code",
   "execution_count": 12,
   "metadata": {},
   "outputs": [
    {
     "data": {
      "text/plain": [
       "array([ 0.        ,  0.52631579,  1.05263158,  1.57894737,  2.10526316,\n",
       "        2.63157895,  3.15789474,  3.68421053,  4.21052632,  4.73684211,\n",
       "        5.26315789,  5.78947368,  6.31578947,  6.84210526,  7.36842105,\n",
       "        7.89473684,  8.42105263,  8.94736842,  9.47368421, 10.        ])"
      ]
     },
     "execution_count": 12,
     "metadata": {},
     "output_type": "execute_result"
    }
   ],
   "source": [
    "# linspace returns evenly spaced samples calculated over the interval \n",
    "# Basically show increments within a certain numbers \n",
    "arrL = np.linspace(0, 10, 20 )\n",
    "arrL"
   ]
  },
  {
   "cell_type": "code",
   "execution_count": 13,
   "metadata": {},
   "outputs": [
    {
     "name": "stdout",
     "output_type": "stream",
     "text": [
      "[0.0543511  0.20167099 0.82043039 0.74111968 0.18013058 0.72203657\n",
      " 0.92282668 0.93526313 0.62913189 0.44709734]\n",
      "[[0.7892768  0.78320504 0.16809639 0.51053189]\n",
      " [0.10442286 0.10317138 0.61473699 0.69631188]\n",
      " [0.37145803 0.34766944 0.72141789 0.62996703]]\n"
     ]
    }
   ],
   "source": [
    "# Creates a random array with the specified values in it between 0 to 1\n",
    "arrR = np.random.rand(10)\n",
    "arrR2 = np.random.rand(3, 4) # Creates a 3 row array 4 value array\n",
    "\n",
    "print(arrR)\n",
    "print(arrR2)\n"
   ]
  },
  {
   "cell_type": "code",
   "execution_count": 14,
   "metadata": {},
   "outputs": [
    {
     "name": "stdout",
     "output_type": "stream",
     "text": [
      "[0. 0. 0. 0. 0. 0. 0. 0. 0. 0.]\n",
      "[[0. 0. 0.]\n",
      " [0. 0. 0.]]\n"
     ]
    }
   ],
   "source": [
    "# Creates a series of array with zeros as its values\n",
    "print(f\"{np.zeros(10)}\\n{np.zeros((2, 3))}\")"
   ]
  },
  {
   "cell_type": "code",
   "execution_count": 15,
   "metadata": {},
   "outputs": [
    {
     "name": "stdout",
     "output_type": "stream",
     "text": [
      "[[[1. 1. 1. 1. 1. 1. 1. 1. 1. 1.]\n",
      "  [1. 1. 1. 1. 1. 1. 1. 1. 1. 1.]\n",
      "  [1. 1. 1. 1. 1. 1. 1. 1. 1. 1.]\n",
      "  [1. 1. 1. 1. 1. 1. 1. 1. 1. 1.]\n",
      "  [1. 1. 1. 1. 1. 1. 1. 1. 1. 1.]\n",
      "  [1. 1. 1. 1. 1. 1. 1. 1. 1. 1.]\n",
      "  [1. 1. 1. 1. 1. 1. 1. 1. 1. 1.]\n",
      "  [1. 1. 1. 1. 1. 1. 1. 1. 1. 1.]\n",
      "  [1. 1. 1. 1. 1. 1. 1. 1. 1. 1.]\n",
      "  [1. 1. 1. 1. 1. 1. 1. 1. 1. 1.]]\n",
      "\n",
      " [[1. 1. 1. 1. 1. 1. 1. 1. 1. 1.]\n",
      "  [1. 1. 1. 1. 1. 1. 1. 1. 1. 1.]\n",
      "  [1. 1. 1. 1. 1. 1. 1. 1. 1. 1.]\n",
      "  [1. 1. 1. 1. 1. 1. 1. 1. 1. 1.]\n",
      "  [1. 1. 1. 1. 1. 1. 1. 1. 1. 1.]\n",
      "  [1. 1. 1. 1. 1. 1. 1. 1. 1. 1.]\n",
      "  [1. 1. 1. 1. 1. 1. 1. 1. 1. 1.]\n",
      "  [1. 1. 1. 1. 1. 1. 1. 1. 1. 1.]\n",
      "  [1. 1. 1. 1. 1. 1. 1. 1. 1. 1.]\n",
      "  [1. 1. 1. 1. 1. 1. 1. 1. 1. 1.]]\n",
      "\n",
      " [[1. 1. 1. 1. 1. 1. 1. 1. 1. 1.]\n",
      "  [1. 1. 1. 1. 1. 1. 1. 1. 1. 1.]\n",
      "  [1. 1. 1. 1. 1. 1. 1. 1. 1. 1.]\n",
      "  [1. 1. 1. 1. 1. 1. 1. 1. 1. 1.]\n",
      "  [1. 1. 1. 1. 1. 1. 1. 1. 1. 1.]\n",
      "  [1. 1. 1. 1. 1. 1. 1. 1. 1. 1.]\n",
      "  [1. 1. 1. 1. 1. 1. 1. 1. 1. 1.]\n",
      "  [1. 1. 1. 1. 1. 1. 1. 1. 1. 1.]\n",
      "  [1. 1. 1. 1. 1. 1. 1. 1. 1. 1.]\n",
      "  [1. 1. 1. 1. 1. 1. 1. 1. 1. 1.]]]\n"
     ]
    }
   ],
   "source": [
    "# 3-dimensional arrays (This case it means three 10 10s) \\|_\n",
    "print(np.ones((3, 10, 10)))"
   ]
  },
  {
   "cell_type": "code",
   "execution_count": 16,
   "metadata": {},
   "outputs": [
    {
     "name": "stdout",
     "output_type": "stream",
     "text": [
      "[0 0 0 1 1 1 2 2 2]\n"
     ]
    }
   ],
   "source": [
    "arr = [0, 1, 2]\n",
    "print(np.repeat(arr, 3)) # Repeat the values in the specified array three times"
   ]
  },
  {
   "cell_type": "code",
   "execution_count": 17,
   "metadata": {},
   "outputs": [
    {
     "name": "stdout",
     "output_type": "stream",
     "text": [
      "[0 1 2 0 1 2 0 1 2]\n"
     ]
    }
   ],
   "source": [
    "print(np.tile(arr, 3)) # Repeats the array specified time"
   ]
  },
  {
   "cell_type": "code",
   "execution_count": 18,
   "metadata": {},
   "outputs": [
    {
     "name": "stdout",
     "output_type": "stream",
     "text": [
      "[[1. 0. 0.]\n",
      " [0. 1. 0.]\n",
      " [0. 0. 1.]]\n"
     ]
    }
   ],
   "source": [
    "# Creates identity matrix with a specified row\n",
    "identity_matrix = np.eye(3)\n",
    "print(identity_matrix)"
   ]
  },
  {
   "cell_type": "code",
   "execution_count": 19,
   "metadata": {},
   "outputs": [
    {
     "data": {
      "text/plain": [
       "array([[1, 0, 0, 0, 0],\n",
       "       [0, 2, 0, 0, 0],\n",
       "       [0, 0, 3, 0, 0],\n",
       "       [0, 0, 0, 4, 0],\n",
       "       [0, 0, 0, 0, 5]])"
      ]
     },
     "execution_count": 19,
     "metadata": {},
     "output_type": "execute_result"
    }
   ],
   "source": [
    "np.diag([1, 2, 3, 4, 5])"
   ]
  },
  {
   "cell_type": "code",
   "execution_count": 20,
   "metadata": {},
   "outputs": [
    {
     "name": "stdout",
     "output_type": "stream",
     "text": [
      "[[0.63130231 0.76666977 0.84164719 0.97489858 0.73175727]\n",
      " [0.98610819 0.88915808 0.53820466 0.67686426 0.47539774]\n",
      " [0.45461989 0.87000461 0.07419416 0.03320387 0.89650993]\n",
      " [0.03519021 0.45990583 0.2034099  0.69349062 0.28053448]\n",
      " [0.93895954 0.67526169 0.2984781  0.74460625 0.25447888]]\n",
      "\n",
      "[0.63130231 0.88915808 0.07419416 0.69349062 0.25447888]\n"
     ]
    }
   ],
   "source": [
    "arr = np.random.rand(5, 5)\n",
    "print(arr)\n",
    "arrDi = np.diag(arr) # Returns the diagonal array\n",
    "print(f\"\\n{arrDi}\")"
   ]
  },
  {
   "cell_type": "code",
   "execution_count": 21,
   "metadata": {},
   "outputs": [
    {
     "name": "stdout",
     "output_type": "stream",
     "text": [
      "2\n",
      "25\n",
      "(5, 5)\n"
     ]
    }
   ],
   "source": [
    "print(arr.ndim) # Shows the dimension of the array\n",
    "print(arr.size) # Shows the size of the array eg: 5 * 5 = 25\n",
    "print(arr.shape) # Shows the grid of the array eg: 5, 5"
   ]
  },
  {
   "cell_type": "code",
   "execution_count": 22,
   "metadata": {},
   "outputs": [
    {
     "data": {
      "text/plain": [
       "array([-10,  -1,  -7,   2])"
      ]
     },
     "execution_count": 22,
     "metadata": {},
     "output_type": "execute_result"
    }
   ],
   "source": [
    "np.random.randint(-10, 10, 4) # Creates a random array (np.random.randint(start, end, array size))"
   ]
  },
  {
   "cell_type": "markdown",
   "metadata": {},
   "source": [
    "================================================================================================================================================================================"
   ]
  },
  {
   "cell_type": "markdown",
   "metadata": {},
   "source": [
    "MODIFYING ARRAY VALUE"
   ]
  },
  {
   "cell_type": "code",
   "execution_count": 23,
   "metadata": {},
   "outputs": [
    {
     "data": {
      "text/plain": [
       "array([[10.63130231, 10.76666977, 10.84164719, 10.97489858, 10.73175727],\n",
       "       [10.98610819, 10.88915808, 10.53820466, 10.67686426, 10.47539774],\n",
       "       [10.45461989, 10.87000461, 10.07419416, 10.03320387, 10.89650993],\n",
       "       [10.03519021, 10.45990583, 10.2034099 , 10.69349062, 10.28053448],\n",
       "       [10.93895954, 10.67526169, 10.2984781 , 10.74460625, 10.25447888]])"
      ]
     },
     "execution_count": 23,
     "metadata": {},
     "output_type": "execute_result"
    }
   ],
   "source": [
    "arr + 10 # Plus 10 to every element in the array"
   ]
  },
  {
   "cell_type": "code",
   "execution_count": 24,
   "metadata": {},
   "outputs": [
    {
     "data": {
      "text/plain": [
       "array([[1.8800574 , 2.15258571, 2.32018563, 2.65089834, 2.07873029],\n",
       "       [2.68078105, 2.43308034, 1.71292882, 1.96769787, 1.6086539 ],\n",
       "       [1.57557439, 2.38692185, 1.0770159 , 1.03376127, 2.45103389],\n",
       "       [1.03581671, 1.58392482, 1.22557473, 2.000687  , 1.32383719],\n",
       "       [2.55731923, 1.96454701, 1.34780602, 2.10561218, 1.28978931]])"
      ]
     },
     "execution_count": 24,
     "metadata": {},
     "output_type": "execute_result"
    }
   ],
   "source": [
    "np.exp(arr) # Returns the exponential array eg: e^[array_value]"
   ]
  },
  {
   "cell_type": "code",
   "execution_count": 25,
   "metadata": {},
   "outputs": [
    {
     "name": "stdout",
     "output_type": "stream",
     "text": [
      "[[-0.45997044 -0.26569911 -0.17239436 -0.02542183 -0.31230642]\n",
      " [-0.0139892  -0.11748024 -0.61951638 -0.39028452 -0.74360347]\n",
      " [-0.78829361 -0.13925677 -2.60106983 -3.40508875 -0.10924591]\n",
      " [-3.34698733 -0.77673353 -1.59253211 -0.36601757 -1.27105862]\n",
      " [-0.06298289 -0.39265498 -1.20905872 -0.29489973 -1.36853745]]\n",
      "\n",
      "\n",
      "[[-0.66359707 -0.38332279 -0.24871249 -0.03667595 -0.45056292]\n",
      " [-0.02018216 -0.16948815 -0.8937732  -0.56306154 -1.07279304]\n",
      " [-1.13726728 -0.20090505 -3.75255055 -4.91250465 -0.15760853]\n",
      " [-4.82868202 -1.12058961 -2.29753817 -0.52805173 -1.83374997]\n",
      " [-0.09086511 -0.56648139 -1.74430301 -0.42545038 -1.97438219]]\n"
     ]
    }
   ],
   "source": [
    "print(np.log(arr)) # Returns the log array eg: log10[array_value] by default\n",
    "print(\"\\n\")\n",
    "print(np.log2(arr)) # Returns the log base 2 array and etc"
   ]
  },
  {
   "cell_type": "code",
   "execution_count": 26,
   "metadata": {},
   "outputs": [
    {
     "data": {
      "text/plain": [
       "array([[0.80725958, 0.72022497, 0.66623535, 0.561252  , 0.74400138],\n",
       "       [0.55193935, 0.63006603, 0.85863035, 0.77954062, 0.88911075],\n",
       "       [0.89842801, 0.64482302, 0.99724888, 0.9994488 , 0.62434004],\n",
       "       [0.99938089, 0.8960943 , 0.97938344, 0.76901941, 0.96090759],\n",
       "       [0.59062794, 0.7805434 , 0.95578513, 0.7353548 , 0.96779462]])"
      ]
     },
     "execution_count": 26,
     "metadata": {},
     "output_type": "execute_result"
    }
   ],
   "source": [
    "np.cos(arr) # Returns the cosine value obtained from array (sin for sine and tan)"
   ]
  },
  {
   "cell_type": "code",
   "execution_count": 27,
   "metadata": {},
   "outputs": [
    {
     "data": {
      "text/plain": [
       "array([3.94627512, 3.56573295, 2.32853247, 1.67253105, 2.91178444])"
      ]
     },
     "execution_count": 27,
     "metadata": {},
     "output_type": "execute_result"
    }
   ],
   "source": [
    "np.sum(arr, axis = 1) # Returns the sum of the whole array (axis = 0 means sum of the column while axis = 1 means that sum of the row)"
   ]
  },
  {
   "cell_type": "code",
   "execution_count": 28,
   "metadata": {},
   "outputs": [
    {
     "name": "stdout",
     "output_type": "stream",
     "text": [
      "[0.03519021 0.45990583 0.07419416 0.03320387 0.25447888]\n",
      "0.9861081894938558\n",
      "[0.78925502 0.71314659 0.46570649 0.33450621 0.58235689]\n",
      "0.6752616873077708\n",
      "[0.3477562  0.15633311 0.27161304 0.31443201 0.25145028]\n",
      "0.08911789710010158\n",
      "[ 0.63130231  1.39797208  2.23961928  3.21451785  3.94627512  4.93238331\n",
      "  5.8215414   6.35974606  7.03661033  7.51200807  7.96662797  8.83663257\n",
      "  8.91082673  8.94403061  9.84054054  9.87573075 10.33563658 10.53904648\n",
      " 11.2325371  11.51307159 12.45203112 13.12729281 13.42577091 14.17037715\n",
      " 14.42485603]\n",
      "[6.31302307e-01 4.84000398e-01 4.07357576e-01 3.97132322e-01\n",
      " 2.90604464e-01 2.86567441e-01 2.54803757e-01 1.37136571e-01\n",
      " 9.28228440e-02 4.41277707e-02 2.00613625e-02 1.74534778e-02\n",
      " 1.29494613e-03 4.29972271e-05 3.85474411e-05 1.35649259e-06\n",
      " 6.23858850e-07 1.26899068e-07 8.80033135e-08 2.46879642e-08\n",
      " 2.31809994e-08 1.56532408e-08 4.67214956e-09 3.47891174e-09\n",
      " 8.85309549e-10]\n",
      "[[0.63130231 0.76666977 0.84164719 0.97489858 0.73175727]\n",
      " [0.98610819 0.88915808 0.53820466 0.67686426 0.47539774]\n",
      " [0.45461989 0.87000461 0.07419416 0.03320387 0.89650993]\n",
      " [0.03519021 0.45990583 0.2034099  0.69349062 0.28053448]\n",
      " [0.93895954 0.67526169 0.2984781  0.74460625 0.25447888]] [[0. 0. 0. 0. 0.]\n",
      " [0. 0. 0. 0. 0.]\n",
      " [0. 0. 0. 0. 0.]\n",
      " [0. 0. 0. 0. 0.]\n",
      " [0. 0. 0. 0. 0.]]\n"
     ]
    }
   ],
   "source": [
    "# Statistic functions\n",
    "\n",
    "print(np.min(arr, axis = 0))\n",
    "print(np.max(arr))\n",
    "print(np.mean(arr, axis = 1))\n",
    "print(np.median(arr))\n",
    "print(np.std(arr, axis = 0))\n",
    "print(np.var(arr))\n",
    "# return the sum of i and i-1 \n",
    "print(np.cumsum(arr))\n",
    "# return the product of i and i-1\n",
    "print(np.cumprod(arr))\n",
    "\n",
    "#np.modf returns the decimal and the whole number of the ndarray E.g: 3.086 returns [3],[0.086]\n",
    "remainder, wholepart = np.modf(arr)\n",
    "print(remainder, wholepart)"
   ]
  },
  {
   "cell_type": "code",
   "execution_count": 29,
   "metadata": {},
   "outputs": [
    {
     "data": {
      "text/plain": [
       "array([[0.53820466, 0.67686426],\n",
       "       [0.07419416, 0.03320387],\n",
       "       [0.2034099 , 0.69349062],\n",
       "       [0.2984781 , 0.74460625]])"
      ]
     },
     "execution_count": 29,
     "metadata": {},
     "output_type": "execute_result"
    }
   ],
   "source": [
    "# Slicing\n",
    "# The example below is showing starting from the index 1 array, and starting from the 2nd value inside array\n",
    "arr[1:, 2:4] "
   ]
  },
  {
   "cell_type": "code",
   "execution_count": 30,
   "metadata": {},
   "outputs": [
    {
     "data": {
      "text/plain": [
       "array([[0.03519021, 0.45990583, 0.07419416, 0.03320387, 0.25447888],\n",
       "       [0.45461989, 0.67526169, 0.2034099 , 0.67686426, 0.28053448],\n",
       "       [0.63130231, 0.76666977, 0.2984781 , 0.69349062, 0.47539774],\n",
       "       [0.93895954, 0.87000461, 0.53820466, 0.74460625, 0.73175727],\n",
       "       [0.98610819, 0.88915808, 0.84164719, 0.97489858, 0.89650993]])"
      ]
     },
     "execution_count": 30,
     "metadata": {},
     "output_type": "execute_result"
    }
   ],
   "source": [
    "# Sorting array values\n",
    "np.sort(arr, axis = 0) "
   ]
  },
  {
   "cell_type": "code",
   "execution_count": 31,
   "metadata": {},
   "outputs": [
    {
     "name": "stdout",
     "output_type": "stream",
     "text": [
      "This is the normal array \n",
      "[[0.63130231 0.76666977 0.84164719 0.97489858 0.73175727]\n",
      " [0.98610819 0.88915808 0.53820466 0.67686426 0.47539774]\n",
      " [0.45461989 0.87000461 0.07419416 0.03320387 0.89650993]\n",
      " [0.03519021 0.45990583 0.2034099  0.69349062 0.28053448]\n",
      " [0.93895954 0.67526169 0.2984781  0.74460625 0.25447888]]\n",
      "\n",
      "This is the tranposed array \n",
      "[[0.63130231 0.98610819 0.45461989 0.03519021 0.93895954]\n",
      " [0.76666977 0.88915808 0.87000461 0.45990583 0.67526169]\n",
      " [0.84164719 0.53820466 0.07419416 0.2034099  0.2984781 ]\n",
      " [0.97489858 0.67686426 0.03320387 0.69349062 0.74460625]\n",
      " [0.73175727 0.47539774 0.89650993 0.28053448 0.25447888]]\n",
      "\n",
      "Slicing tranposed array \n",
      "[[0.63130231 0.98610819 0.45461989]\n",
      " [0.76666977 0.88915808 0.87000461]\n",
      " [0.84164719 0.53820466 0.07419416]\n",
      " [0.97489858 0.67686426 0.03320387]\n",
      " [0.73175727 0.47539774 0.89650993]] \n"
     ]
    }
   ],
   "source": [
    "print(f\"This is the normal array \\n{arr}\")\n",
    "print(f\"\\nThis is the tranposed array \\n{arr.T}\")\n",
    "# Tranposed array converts the array to sort by column\n",
    "# For example: a 5 x 3 array becomes a 3 x 5 array \n",
    "print(f\"\\nSlicing tranposed array \\n{arr[:3,:].T} \")\n",
    "# We have to -1(for the end slice) everytime. Eg: 0:4 means 0, 1, 2, 3 "
   ]
  },
  {
   "cell_type": "code",
   "execution_count": 32,
   "metadata": {},
   "outputs": [
    {
     "data": {
      "text/plain": [
       "array([0.98610819, 0.88915808, 0.53820466, 0.45461989, 0.87000461,\n",
       "       0.07419416, 0.03519021, 0.45990583, 0.2034099 ])"
      ]
     },
     "execution_count": 32,
     "metadata": {},
     "output_type": "execute_result"
    }
   ],
   "source": [
    "# Converts the array into a 1 x n array (useful for neural networks)\n",
    "arr[1:4, :3].flatten()"
   ]
  },
  {
   "cell_type": "code",
   "execution_count": 33,
   "metadata": {},
   "outputs": [
    {
     "name": "stdout",
     "output_type": "stream",
     "text": [
      "[1 2 3 4 5]\n",
      "[1 2 3 4 5 6 7 8]\n",
      "[1 1 2 3 2 3 4 5]\n"
     ]
    }
   ],
   "source": [
    "# Appending things into array\n",
    "# But normally people process the data then put it as array instead of adding new stuffs to array\n",
    "arr = np.array([1, 2, 3, 4, 5])\n",
    "arrpin = np.append(arr, [6, 7, 8])\n",
    "arr_insert = np.insert(arr, 1, [1, 2, 3]) # np.insert(array, index, value)\n",
    "\n",
    "print(f\"{arr}\\n{arrpin}\\n{arr_insert}\")"
   ]
  },
  {
   "cell_type": "code",
   "execution_count": 34,
   "metadata": {},
   "outputs": [
    {
     "name": "stdout",
     "output_type": "stream",
     "text": [
      "[1 2 3 2 3 4 5]\n"
     ]
    }
   ],
   "source": [
    "arr_del = np.delete(arr_insert, [0]) # np.delete(array, [index], axis)\n",
    "print(arr_del)"
   ]
  },
  {
   "cell_type": "code",
   "execution_count": 35,
   "metadata": {},
   "outputs": [
    {
     "name": "stdout",
     "output_type": "stream",
     "text": [
      "[1 2 3 2 3 4 5]\n"
     ]
    }
   ],
   "source": [
    "# Copying array\n",
    "arrC = arr_del.copy()\n",
    "print(arrC)"
   ]
  },
  {
   "cell_type": "markdown",
   "metadata": {},
   "source": [
    "======================================================================================================================================="
   ]
  },
  {
   "cell_type": "markdown",
   "metadata": {},
   "source": [
    "NUMPY BOOLEAN METHODS"
   ]
  },
  {
   "cell_type": "code",
   "execution_count": 36,
   "metadata": {},
   "outputs": [
    {
     "data": {
      "text/plain": [
       "23"
      ]
     },
     "execution_count": 36,
     "metadata": {},
     "output_type": "execute_result"
    }
   ],
   "source": [
    "arr = np.random.randn(50)\n",
    "# Returns the total number of true elements\n",
    "(arr > 0).sum() "
   ]
  },
  {
   "cell_type": "code",
   "execution_count": 39,
   "metadata": {},
   "outputs": [
    {
     "name": "stdout",
     "output_type": "stream",
     "text": [
      "True\n",
      "False\n"
     ]
    }
   ],
   "source": [
    "bools = np.array([False, False, True, False])\n",
    "print(bools.any())\n",
    "print(bools.all())  "
   ]
  },
  {
   "cell_type": "markdown",
   "metadata": {},
   "source": [
    "==================================================================================================================================="
   ]
  },
  {
   "cell_type": "markdown",
   "metadata": {},
   "source": [
    "NUMPY SET AND MATRICES FUNCTIONS"
   ]
  },
  {
   "cell_type": "code",
   "execution_count": 47,
   "metadata": {},
   "outputs": [
    {
     "name": "stdout",
     "output_type": "stream",
     "text": [
      "[[1 2 3 4 5 5 6 7 8 9]\n",
      " [1 2 3 4 5 5 6 7 8 9]]\n"
     ]
    }
   ],
   "source": [
    "# Concatenating arrays (Combining arrays)\n",
    "arr1 = np.array([[1, 2, 3, 4, 5], [1, 2, 3, 4, 5]])\n",
    "arr2 = np.array([[5, 6, 7, 8, 9], [5, 6, 7, 8, 9]])\n",
    "arr_cat = np.concatenate((arr1, arr2), axis = 1)\n",
    "print(arr_cat)"
   ]
  },
  {
   "cell_type": "code",
   "execution_count": 48,
   "metadata": {},
   "outputs": [
    {
     "name": "stdout",
     "output_type": "stream",
     "text": [
      "[[1 2 3 4 5]\n",
      " [1 2 3 4 5]\n",
      " [5 6 7 8 9]\n",
      " [5 6 7 8 9]]\n",
      "[[1 2 3 4 5 5 6 7 8 9]\n",
      " [1 2 3 4 5 5 6 7 8 9]]\n"
     ]
    }
   ],
   "source": [
    "# Similar to concatenate but it does not require axis (vstack stands for vertical stack)\n",
    "catV = np.vstack((arr1, arr2))\n",
    "print(catV)\n",
    "\n",
    "# hstack stands for horizontal stack\n",
    "catH = np.hstack((arr1, arr2))\n",
    "print(catH)"
   ]
  },
  {
   "cell_type": "code",
   "execution_count": 49,
   "metadata": {},
   "outputs": [
    {
     "name": "stdout",
     "output_type": "stream",
     "text": [
      "[1 2 3 4 5 7]\n"
     ]
    }
   ],
   "source": [
    "arr = np.array([1, 2, 3, 4, 5, 7, 3, 2, 5, 3])\n",
    "print(np.unique(arr)) # Returns all the unique value inside the array"
   ]
  },
  {
   "cell_type": "code",
   "execution_count": 50,
   "metadata": {},
   "outputs": [
    {
     "name": "stdout",
     "output_type": "stream",
     "text": [
      "[1 2 3 4 5 7]\n",
      "[1 2 3 1 2 1]\n"
     ]
    }
   ],
   "source": [
    "# returns two variable, unique value inside array and return its counts\n",
    "uniques, countsw = np.unique(arr, return_counts = True)\n",
    "print(uniques)\n",
    "print(countsw)"
   ]
  },
  {
   "cell_type": "code",
   "execution_count": 51,
   "metadata": {},
   "outputs": [
    {
     "name": "stdout",
     "output_type": "stream",
     "text": [
      "[3 4 5]\n",
      "[1 2 3 4 5 6 7]\n",
      "[6 7]\n",
      "[1 2 6 7]\n"
     ]
    }
   ],
   "source": [
    "# Intersection, differentiation, neither\n",
    "arr1 = np.array([1, 2, 3, 4, 5])\n",
    "arr2 = np.array([3, 4, 5, 6, 7])\n",
    "print(np.intersect1d(arr1, arr2)) # Returns the same value occured in both arrays\n",
    "print(np.union1d(arr1, arr2)) # Returns everything occured in both array (but only show one if there are repeating value)\n",
    "# np.setdiff1d(targetset, secondset)\n",
    "print(np.setdiff1d(arr2, arr1)) # Returns the difference between the targetted set and the other set (only shows the target set)\n",
    "print(np.setxor1d(arr1, arr2)) # Returns all the difference between both arrays\n"
   ]
  },
  {
   "cell_type": "markdown",
   "metadata": {},
   "source": [
    "======================================================================================================================================="
   ]
  },
  {
   "cell_type": "markdown",
   "metadata": {},
   "source": [
    "\n",
    "Book Examples"
   ]
  },
  {
   "cell_type": "code",
   "execution_count": 52,
   "metadata": {},
   "outputs": [
    {
     "name": "stdout",
     "output_type": "stream",
     "text": [
      "[1.1, 2.2, 1.3, 1.4, 2.5]\n",
      "[1.1 2.2 1.3 1.4 2.5]\n"
     ]
    }
   ],
   "source": [
    "arrx = np.array([1.1, 1.2, 1.3, 1.4, 1.5])\n",
    "arry = np.array([2.1, 2.2, 2.3, 2.4, 2.5])\n",
    "cond = np.array([True, False, True, True, False])\n",
    "\n",
    "result = [(x if c else y)for x, y, c in zip(arrx, arry, cond)]\n",
    "print(result)\n",
    "\n",
    "# This can be interpreted as \n",
    "result = np.where(cond, arrx, arry)\n",
    "print(result)"
   ]
  },
  {
   "cell_type": "code",
   "execution_count": 53,
   "metadata": {},
   "outputs": [
    {
     "data": {
      "text/plain": [
       "array([[4., 4., 4., 4.],\n",
       "       [3., 3., 3., 3.],\n",
       "       [0., 0., 0., 0.],\n",
       "       [6., 6., 6., 6.]])"
      ]
     },
     "execution_count": 53,
     "metadata": {},
     "output_type": "execute_result"
    }
   ],
   "source": [
    "arr = np.empty((4, 4))\n",
    "\n",
    "list = [4, 3, 0, 6] \n",
    "for el in list:\n",
    "    for i in range(4):\n",
    "        arr[i] = list[i]\n",
    "\n",
    "arr"
   ]
  }
 ],
 "metadata": {
  "interpreter": {
   "hash": "86024da591e1644f8f97b04427dfc49d410526f78c619fda20415da69f0ecd62"
  },
  "kernelspec": {
   "display_name": "Python 3.9.7 64-bit",
   "name": "python3"
  },
  "language_info": {
   "codemirror_mode": {
    "name": "ipython",
    "version": 3
   },
   "file_extension": ".py",
   "mimetype": "text/x-python",
   "name": "python",
   "nbconvert_exporter": "python",
   "pygments_lexer": "ipython3",
   "version": "3.9.7"
  },
  "orig_nbformat": 4
 },
 "nbformat": 4,
 "nbformat_minor": 2
}
