{
 "cells": [
  {
   "cell_type": "code",
   "execution_count": 2,
   "metadata": {},
   "outputs": [],
   "source": [
    "import pandas as pd\n",
    "import numpy as np"
   ]
  },
  {
   "cell_type": "code",
   "execution_count": 3,
   "metadata": {},
   "outputs": [
    {
     "name": "stdout",
     "output_type": "stream",
     "text": [
      "0    4\n",
      "1    7\n",
      "2    5\n",
      "3   -3\n",
      "dtype: int64\n",
      "a    4\n",
      "b    7\n",
      "c   -5\n",
      "d    3\n",
      "dtype: int64\n"
     ]
    }
   ],
   "source": [
    "# A series is a one-dimensional array-like object containing a sequence of values and an associated array of data labels, called index\n",
    "obj = pd.Series([4, 7, 5, -3])\n",
    "# To specify index\n",
    "obj2 = pd.Series([4, 7, -5, 3], index = [\"a\", \"b\", \"c\", \"d\"])\n",
    "print(obj)\n",
    "print(obj2)"
   ]
  },
  {
   "cell_type": "code",
   "execution_count": 4,
   "metadata": {},
   "outputs": [
    {
     "name": "stdout",
     "output_type": "stream",
     "text": [
      "[ 4  7  5 -3]\n",
      "RangeIndex(start=0, stop=4, step=1)\n",
      "Index(['a', 'b', 'c', 'd'], dtype='object')\n"
     ]
    }
   ],
   "source": [
    "print(obj.values)\n",
    "print(obj.index)\n",
    "print(obj2.index)"
   ]
  },
  {
   "cell_type": "code",
   "execution_count": 5,
   "metadata": {},
   "outputs": [
    {
     "name": "stdout",
     "output_type": "stream",
     "text": [
      "4\n",
      "10\n",
      "a    4\n",
      "b    7\n",
      "c   -5\n",
      "dtype: int64\n",
      "True\n",
      "False\n"
     ]
    }
   ],
   "source": [
    "# Accessing values in pd.Series \n",
    "\n",
    "obj[0] = 10\n",
    "\n",
    "print(obj2[\"a\"])\n",
    "print(obj[0])\n",
    "# Accessing multiple values in series\n",
    "print(obj2[[\"a\",\"b\",\"c\"]])\n",
    "\n",
    "print('b' in obj2)\n",
    "print('z' in obj2)"
   ]
  },
  {
   "cell_type": "code",
   "execution_count": 6,
   "metadata": {},
   "outputs": [
    {
     "name": "stdout",
     "output_type": "stream",
     "text": [
      "a    4\n",
      "b    7\n",
      "d    3\n",
      "dtype: int64\n",
      "a     8\n",
      "b    14\n",
      "c   -10\n",
      "d     6\n",
      "dtype: int64\n",
      "a      54.598150\n",
      "b    1096.633158\n",
      "c       0.006738\n",
      "d      20.085537\n",
      "dtype: float64\n"
     ]
    }
   ],
   "source": [
    "# Modifying valus in series\n",
    "print(obj2[obj2 > 0])\n",
    "print(obj2 * 2)\n",
    "print(np.exp(obj2))"
   ]
  },
  {
   "cell_type": "code",
   "execution_count": 7,
   "metadata": {},
   "outputs": [
    {
     "name": "stdout",
     "output_type": "stream",
     "text": [
      "0    10\n",
      "1     7\n",
      "2     5\n",
      "3    -3\n",
      "dtype: int64\n",
      "0    10\n",
      "1     7\n",
      "2     5\n",
      "3    -3\n",
      "dtype: int64\n",
      "0    False\n",
      "1    False\n",
      "2    False\n",
      "3    False\n",
      "dtype: bool\n",
      "0    True\n",
      "1    True\n",
      "2    True\n",
      "3    True\n",
      "dtype: bool\n"
     ]
    }
   ],
   "source": [
    "# Converting dictionary into seriess\n",
    "d_data = {\n",
    "    'Ohio': 30000,\n",
    "    'Texas': 75000,\n",
    "    'Oregon': 16000,  \n",
    "    'Utah': 5000,\n",
    "}\n",
    "\n",
    "obj1 = pd.Series(d_data)\n",
    "print(obj)\n",
    "\n",
    "# Modifying the index\n",
    "states = ['California', 'Ohio', 'Oregon', 'Texas']\n",
    "obj2 = pd.Series(d_data, index = states)\n",
    "# Since california is not found in d_data, it will return NaN which stands for Not a Number(means NA not available)\n",
    "# And since Utah is not included, it is excluded from the resulting object\n",
    "print(obj)\n",
    "\n",
    "# Detecting missing data\n",
    "print(obj.isnull())\n",
    "print(obj.notnull())\n"
   ]
  },
  {
   "cell_type": "code",
   "execution_count": 8,
   "metadata": {},
   "outputs": [
    {
     "name": "stdout",
     "output_type": "stream",
     "text": [
      "California         NaN\n",
      "Ohio           60000.0\n",
      "Oregon         32000.0\n",
      "Texas         150000.0\n",
      "Utah               NaN\n",
      "dtype: float64\n",
      "====================================================================\n",
      "state\n",
      "California        NaN\n",
      "Ohio          30000.0\n",
      "Oregon        16000.0\n",
      "Texas         75000.0\n",
      "Name: Population, dtype: float64\n",
      "====================================================================\n",
      "Bob      10\n",
      "Steve     7\n",
      "Jeff      5\n",
      "Ryan     -3\n",
      "dtype: int64\n"
     ]
    }
   ],
   "source": [
    "# Modifying Series\n",
    "print(obj1 + obj2)\n",
    "\n",
    "print(\"====================================================================\")\n",
    "\n",
    "obj2.name = 'Population'\n",
    "obj2.index.name = 'state'\n",
    "print(obj2)\n",
    "\n",
    "print(\"====================================================================\")\n",
    "# Modifying index\n",
    "obj.index = ['Bob', 'Steve', 'Jeff', 'Ryan']\n",
    "print(obj)"
   ]
  },
  {
   "cell_type": "markdown",
   "metadata": {},
   "source": [
    "======================================================================================================================================="
   ]
  },
  {
   "cell_type": "markdown",
   "metadata": {},
   "source": [
    "DATAFRAME"
   ]
  },
  {
   "cell_type": "code",
   "execution_count": 14,
   "metadata": {},
   "outputs": [
    {
     "name": "stdout",
     "output_type": "stream",
     "text": [
      "    state  year  pop\n",
      "0    Ohio  2000  1.5\n",
      "1    Ohio  2001  1.7\n",
      "2    Ohio  2002  3.6\n",
      "3  Nevada  2001  2.4\n",
      "4  Nevada  2002  2.9\n",
      "5  Nevada  2003  3.2\n",
      "    state  year  pop\n",
      "0    Ohio  2000  1.5\n",
      "1    Ohio  2001  1.7\n",
      "2    Ohio  2002  3.6\n",
      "3  Nevada  2001  2.4\n",
      "4  Nevada  2002  2.9\n",
      "Index(['state', 'year', 'pop'], dtype='object')\n"
     ]
    }
   ],
   "source": [
    "# Creating DataFrame\n",
    "data = {\n",
    "    'state': ['Ohio', 'Ohio', 'Ohio', 'Nevada', 'Nevada', 'Nevada'],\n",
    "    'year': [2000, 2001, 2002, 2001, 2002, 2003],\n",
    "    'pop': [1.5, 1.7, 3.6, 2.4, 2.9, 3.2]\n",
    "}\n",
    "\n",
    "frame = pd.DataFrame(data)\n",
    "print(frame)\n",
    "print(frame.head())\n",
    "print(frame.columns)\n"
   ]
  },
  {
   "cell_type": "code",
   "execution_count": 16,
   "metadata": {},
   "outputs": [
    {
     "name": "stdout",
     "output_type": "stream",
     "text": [
      "   year   state  pop\n",
      "0  2000    Ohio  1.5\n",
      "1  2001    Ohio  1.7\n",
      "2  2002    Ohio  3.6\n",
      "3  2001  Nevada  2.4\n",
      "4  2002  Nevada  2.9\n",
      "5  2003  Nevada  3.2\n",
      "0    2000\n",
      "1    2001\n",
      "2    2002\n",
      "3    2001\n",
      "4    2002\n",
      "5    2003\n",
      "Name: year, dtype: int64\n"
     ]
    }
   ],
   "source": [
    "# Specifying column order\n",
    "obj = pd.DataFrame(data, columns=['year', 'state', 'pop'])\n",
    "\n",
    "print(obj)\n",
    "# Showing year column\n",
    "print(obj.year)"
   ]
  },
  {
   "cell_type": "code",
   "execution_count": 28,
   "metadata": {},
   "outputs": [
    {
     "name": "stdout",
     "output_type": "stream",
     "text": [
      "       year   state  pop debt\n",
      "one    2000    Ohio  1.5  NaN\n",
      "two    2001    Ohio  1.7  NaN\n",
      "three  2002    Ohio  3.6  NaN\n",
      "four   2001  Nevada  2.4  NaN\n",
      "five   2002  Nevada  2.9  NaN\n",
      "six    2003  Nevada  3.2  NaN\n",
      "====================================================================\n",
      "       year   state  pop  debt\n",
      "one    2000    Ohio  1.5  16.5\n",
      "two    2001    Ohio  1.7  16.5\n",
      "three  2002    Ohio  3.6  16.5\n",
      "four   2001  Nevada  2.4  16.5\n",
      "five   2002  Nevada  2.9  16.5\n",
      "six    2003  Nevada  3.2  16.5\n",
      "       year   state  pop  debt\n",
      "one    2000    Ohio    0  16.5\n",
      "two    2001    Ohio    1  16.5\n",
      "three  2002    Ohio    2  16.5\n",
      "four   2001  Nevada    3  16.5\n",
      "five   2002  Nevada    4  16.5\n",
      "six    2003  Nevada    5  16.5\n"
     ]
    }
   ],
   "source": [
    "frame2 = pd.DataFrame(data, columns = ['year', 'state', 'pop', 'debt'], \n",
    "                    index = ['one', 'two', 'three', 'four', 'five', 'six'])\n",
    "\n",
    "print(frame2)\n",
    "\n",
    "print(\"====================================================================\")\n",
    "\n",
    "# Inserting NaN values\n",
    "frame2['debt'] = 16.5\n",
    "print(frame2)\n",
    "\n",
    "frame2['pop'] = np.arange(6)\n",
    "print(frame2)"
   ]
  },
  {
   "cell_type": "code",
   "execution_count": 29,
   "metadata": {},
   "outputs": [
    {
     "name": "stdout",
     "output_type": "stream",
     "text": [
      "       year   state  pop  debt\n",
      "one    2000    Ohio    0   1.5\n",
      "two    2001    Ohio    1   NaN\n",
      "three  2002    Ohio    2   NaN\n",
      "four   2001  Nevada    3   3.0\n",
      "five   2002  Nevada    4  -5.2\n",
      "six    2003  Nevada    5   NaN\n"
     ]
    }
   ],
   "source": [
    "# Modifying value in dataframe\n",
    "val = pd.Series([1.5, 3.0, -5.2], index = ['one', 'four', 'five'])\n",
    "\n",
    "frame2['debt'] = val \n",
    "print(frame2)"
   ]
  },
  {
   "cell_type": "code",
   "execution_count": 31,
   "metadata": {},
   "outputs": [
    {
     "name": "stdout",
     "output_type": "stream",
     "text": [
      "       year   state  pop  debt  eastern\n",
      "one    2000    Ohio    0   1.5     True\n",
      "two    2001    Ohio    1   NaN     True\n",
      "three  2002    Ohio    2   NaN     True\n",
      "four   2001  Nevada    3   3.0    False\n",
      "five   2002  Nevada    4  -5.2    False\n",
      "six    2003  Nevada    5   NaN    False\n",
      "Index(['year', 'state', 'pop', 'debt'], dtype='object')\n"
     ]
    }
   ],
   "source": [
    "# Creating a new column in dataframe\n",
    "frame2['eastern'] = frame2.state == 'Ohio'\n",
    "print(frame2)\n",
    "\n",
    "# Deleting column using del keyword\n",
    "del frame2['eastern']\n",
    "print(frame2.columns)\n"
   ]
  },
  {
   "cell_type": "code",
   "execution_count": 38,
   "metadata": {},
   "outputs": [
    {
     "name": "stdout",
     "output_type": "stream",
     "text": [
      "      Nevada  Ohio\n",
      "2001     2.4   1.7\n",
      "2002     2.9   3.6\n",
      "2000     NaN   1.5\n",
      "        2001  2002  2000\n",
      "Nevada   2.4   2.9   NaN\n",
      "Ohio     1.7   3.6   1.5\n"
     ]
    },
    {
     "data": {
      "text/html": [
       "<div>\n",
       "<style scoped>\n",
       "    .dataframe tbody tr th:only-of-type {\n",
       "        vertical-align: middle;\n",
       "    }\n",
       "\n",
       "    .dataframe tbody tr th {\n",
       "        vertical-align: top;\n",
       "    }\n",
       "\n",
       "    .dataframe thead th {\n",
       "        text-align: right;\n",
       "    }\n",
       "</style>\n",
       "<table border=\"1\" class=\"dataframe\">\n",
       "  <thead>\n",
       "    <tr style=\"text-align: right;\">\n",
       "      <th></th>\n",
       "      <th>Nevada</th>\n",
       "      <th>Ohio</th>\n",
       "    </tr>\n",
       "  </thead>\n",
       "  <tbody>\n",
       "    <tr>\n",
       "      <th>2001</th>\n",
       "      <td>2.4</td>\n",
       "      <td>1.7</td>\n",
       "    </tr>\n",
       "    <tr>\n",
       "      <th>2002</th>\n",
       "      <td>2.9</td>\n",
       "      <td>3.6</td>\n",
       "    </tr>\n",
       "    <tr>\n",
       "      <th>2003</th>\n",
       "      <td>NaN</td>\n",
       "      <td>NaN</td>\n",
       "    </tr>\n",
       "  </tbody>\n",
       "</table>\n",
       "</div>"
      ],
      "text/plain": [
       "      Nevada  Ohio\n",
       "2001     2.4   1.7\n",
       "2002     2.9   3.6\n",
       "2003     NaN   NaN"
      ]
     },
     "execution_count": 38,
     "metadata": {},
     "output_type": "execute_result"
    }
   ],
   "source": [
    "# Creating dataframe using nested dictionary\n",
    "pop = {\n",
    "    'Nevada': {\n",
    "        2001: 2.4, \n",
    "        2002: 2.9,\n",
    "    }, \n",
    "    'Ohio': {\n",
    "        2000: 1.5,\n",
    "        2001: 1.7,\n",
    "        2002: 3.6,\n",
    "    }\n",
    "}\n",
    "\n",
    "frame3 = pd.DataFrame(pop)\n",
    "print(frame3)\n",
    "\n",
    "# Transposing dataframe\n",
    "print(frame3.T)\n",
    "\n",
    "# The keys inside the inner dict are combined and sorted to form the index in the result unless it is specified\n",
    "pd.DataFrame(pop, index = [2001, 2002, 2003])"
   ]
  }
 ],
 "metadata": {
  "interpreter": {
   "hash": "86024da591e1644f8f97b04427dfc49d410526f78c619fda20415da69f0ecd62"
  },
  "kernelspec": {
   "display_name": "Python 3.9.7 64-bit",
   "name": "python3"
  },
  "language_info": {
   "codemirror_mode": {
    "name": "ipython",
    "version": 3
   },
   "file_extension": ".py",
   "mimetype": "text/x-python",
   "name": "python",
   "nbconvert_exporter": "python",
   "pygments_lexer": "ipython3",
   "version": "3.9.7"
  },
  "orig_nbformat": 4
 },
 "nbformat": 4,
 "nbformat_minor": 2
}
